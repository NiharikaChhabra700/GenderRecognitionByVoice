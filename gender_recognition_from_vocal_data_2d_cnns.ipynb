{
  "cells": [
    {
      "cell_type": "markdown",
      "metadata": {
        "papermill": {
          "duration": 0.024925,
          "end_time": "2020-11-09T15:52:34.819459",
          "exception": false,
          "start_time": "2020-11-09T15:52:34.794534",
          "status": "completed"
        },
        "tags": [],
        "id": "ZehJp2-e3Qi6"
      },
      "source": [
        "\n",
        "\n",
        "## Gender Recognition From Vocal Data  \n",
        "\n",
        "Given *vocal data from various people*, let's try to predict the **gender** of a given person.  \n",
        "  \n",
        "We will use two different TensorFlow neural networks (one a CNN) to make our predictions."
      ]
    },
    {
      "cell_type": "markdown",
      "metadata": {
        "papermill": {
          "duration": 0.02134,
          "end_time": "2020-11-09T15:52:34.863195",
          "exception": false,
          "start_time": "2020-11-09T15:52:34.841855",
          "status": "completed"
        },
        "tags": [],
        "id": "ZkvOA-Yr3Qi-"
      },
      "source": [
        "# Getting Started"
      ]
    },
    {
      "cell_type": "code",
      "execution_count": 1,
      "metadata": {
        "_cell_guid": "79c7e3d0-c299-4dcb-8224-4455121ee9b0",
        "_uuid": "d629ff2d2480ee46fbb7e2d37f6b5fab8052498a",
        "execution": {
          "iopub.execute_input": "2020-11-09T15:52:34.918557Z",
          "iopub.status.busy": "2020-11-09T15:52:34.917674Z",
          "iopub.status.idle": "2020-11-09T15:52:42.312908Z",
          "shell.execute_reply": "2020-11-09T15:52:42.312128Z"
        },
        "papermill": {
          "duration": 7.424864,
          "end_time": "2020-11-09T15:52:42.313070",
          "exception": false,
          "start_time": "2020-11-09T15:52:34.888206",
          "status": "completed"
        },
        "tags": [],
        "id": "bl90w2gJ3Qi_"
      },
      "outputs": [],
      "source": [
        "import numpy as np\n",
        "import pandas as pd\n",
        "import matplotlib.pyplot as plt\n",
        "\n",
        "from sklearn.preprocessing import LabelEncoder, StandardScaler\n",
        "from sklearn.model_selection import train_test_split\n",
        "\n",
        "import tensorflow as tf"
      ]
    },
    {
      "cell_type": "code",
      "execution_count": 2,
      "metadata": {
        "execution": {
          "iopub.execute_input": "2020-11-09T15:52:42.366641Z",
          "iopub.status.busy": "2020-11-09T15:52:42.365864Z",
          "iopub.status.idle": "2020-11-09T15:52:42.405083Z",
          "shell.execute_reply": "2020-11-09T15:52:42.404396Z"
        },
        "papermill": {
          "duration": 0.069218,
          "end_time": "2020-11-09T15:52:42.405230",
          "exception": false,
          "start_time": "2020-11-09T15:52:42.336012",
          "status": "completed"
        },
        "tags": [],
        "id": "r-FM7AT03QjB"
      },
      "outputs": [],
      "source": [
        "data = pd.read_csv('/content/voice.csv')"
      ]
    },
    {
      "cell_type": "code",
      "execution_count": 3,
      "metadata": {
        "execution": {
          "iopub.execute_input": "2020-11-09T15:52:42.466256Z",
          "iopub.status.busy": "2020-11-09T15:52:42.464148Z",
          "iopub.status.idle": "2020-11-09T15:52:42.507222Z",
          "shell.execute_reply": "2020-11-09T15:52:42.507873Z"
        },
        "papermill": {
          "duration": 0.079942,
          "end_time": "2020-11-09T15:52:42.508047",
          "exception": false,
          "start_time": "2020-11-09T15:52:42.428105",
          "status": "completed"
        },
        "tags": [],
        "colab": {
          "base_uri": "https://localhost:8080/",
          "height": 487
        },
        "id": "-AxV3yGL3QjC",
        "outputId": "04673ed0-6e4b-40a4-fca7-c5e0efa71b31"
      },
      "outputs": [
        {
          "output_type": "execute_result",
          "data": {
            "text/plain": [
              "      meanfreq        sd    median       Q25       Q75       IQR       skew  \\\n",
              "0     0.059781  0.064241  0.032027  0.015071  0.090193  0.075122  12.863462   \n",
              "1     0.066009  0.067310  0.040229  0.019414  0.092666  0.073252  22.423285   \n",
              "2     0.077316  0.083829  0.036718  0.008701  0.131908  0.123207  30.757155   \n",
              "3     0.151228  0.072111  0.158011  0.096582  0.207955  0.111374   1.232831   \n",
              "4     0.135120  0.079146  0.124656  0.078720  0.206045  0.127325   1.101174   \n",
              "...        ...       ...       ...       ...       ...       ...        ...   \n",
              "3163  0.131884  0.084734  0.153707  0.049285  0.201144  0.151859   1.762129   \n",
              "3164  0.116221  0.089221  0.076758  0.042718  0.204911  0.162193   0.693730   \n",
              "3165  0.142056  0.095798  0.183731  0.033424  0.224360  0.190936   1.876502   \n",
              "3166  0.143659  0.090628  0.184976  0.043508  0.219943  0.176435   1.591065   \n",
              "3167  0.165509  0.092884  0.183044  0.070072  0.250827  0.180756   1.705029   \n",
              "\n",
              "             kurt    sp.ent       sfm  ...  centroid   meanfun    minfun  \\\n",
              "0      274.402906  0.893369  0.491918  ...  0.059781  0.084279  0.015702   \n",
              "1      634.613855  0.892193  0.513724  ...  0.066009  0.107937  0.015826   \n",
              "2     1024.927705  0.846389  0.478905  ...  0.077316  0.098706  0.015656   \n",
              "3        4.177296  0.963322  0.727232  ...  0.151228  0.088965  0.017798   \n",
              "4        4.333713  0.971955  0.783568  ...  0.135120  0.106398  0.016931   \n",
              "...           ...       ...       ...  ...       ...       ...       ...   \n",
              "3163     6.630383  0.962934  0.763182  ...  0.131884  0.182790  0.083770   \n",
              "3164     2.503954  0.960716  0.709570  ...  0.116221  0.188980  0.034409   \n",
              "3165     6.604509  0.946854  0.654196  ...  0.142056  0.209918  0.039506   \n",
              "3166     5.388298  0.950436  0.675470  ...  0.143659  0.172375  0.034483   \n",
              "3167     5.769115  0.938829  0.601529  ...  0.165509  0.185607  0.062257   \n",
              "\n",
              "        maxfun   meandom    mindom    maxdom   dfrange   modindx   label  \n",
              "0     0.275862  0.007812  0.007812  0.007812  0.000000  0.000000    male  \n",
              "1     0.250000  0.009014  0.007812  0.054688  0.046875  0.052632    male  \n",
              "2     0.271186  0.007990  0.007812  0.015625  0.007812  0.046512    male  \n",
              "3     0.250000  0.201497  0.007812  0.562500  0.554688  0.247119    male  \n",
              "4     0.266667  0.712812  0.007812  5.484375  5.476562  0.208274    male  \n",
              "...        ...       ...       ...       ...       ...       ...     ...  \n",
              "3163  0.262295  0.832899  0.007812  4.210938  4.203125  0.161929  female  \n",
              "3164  0.275862  0.909856  0.039062  3.679688  3.640625  0.277897  female  \n",
              "3165  0.275862  0.494271  0.007812  2.937500  2.929688  0.194759  female  \n",
              "3166  0.250000  0.791360  0.007812  3.593750  3.585938  0.311002  female  \n",
              "3167  0.271186  0.227022  0.007812  0.554688  0.546875  0.350000  female  \n",
              "\n",
              "[3168 rows x 21 columns]"
            ],
            "text/html": [
              "\n",
              "  <div id=\"df-24d969a6-1678-4038-b156-98ee5a132ea8\">\n",
              "    <div class=\"colab-df-container\">\n",
              "      <div>\n",
              "<style scoped>\n",
              "    .dataframe tbody tr th:only-of-type {\n",
              "        vertical-align: middle;\n",
              "    }\n",
              "\n",
              "    .dataframe tbody tr th {\n",
              "        vertical-align: top;\n",
              "    }\n",
              "\n",
              "    .dataframe thead th {\n",
              "        text-align: right;\n",
              "    }\n",
              "</style>\n",
              "<table border=\"1\" class=\"dataframe\">\n",
              "  <thead>\n",
              "    <tr style=\"text-align: right;\">\n",
              "      <th></th>\n",
              "      <th>meanfreq</th>\n",
              "      <th>sd</th>\n",
              "      <th>median</th>\n",
              "      <th>Q25</th>\n",
              "      <th>Q75</th>\n",
              "      <th>IQR</th>\n",
              "      <th>skew</th>\n",
              "      <th>kurt</th>\n",
              "      <th>sp.ent</th>\n",
              "      <th>sfm</th>\n",
              "      <th>...</th>\n",
              "      <th>centroid</th>\n",
              "      <th>meanfun</th>\n",
              "      <th>minfun</th>\n",
              "      <th>maxfun</th>\n",
              "      <th>meandom</th>\n",
              "      <th>mindom</th>\n",
              "      <th>maxdom</th>\n",
              "      <th>dfrange</th>\n",
              "      <th>modindx</th>\n",
              "      <th>label</th>\n",
              "    </tr>\n",
              "  </thead>\n",
              "  <tbody>\n",
              "    <tr>\n",
              "      <th>0</th>\n",
              "      <td>0.059781</td>\n",
              "      <td>0.064241</td>\n",
              "      <td>0.032027</td>\n",
              "      <td>0.015071</td>\n",
              "      <td>0.090193</td>\n",
              "      <td>0.075122</td>\n",
              "      <td>12.863462</td>\n",
              "      <td>274.402906</td>\n",
              "      <td>0.893369</td>\n",
              "      <td>0.491918</td>\n",
              "      <td>...</td>\n",
              "      <td>0.059781</td>\n",
              "      <td>0.084279</td>\n",
              "      <td>0.015702</td>\n",
              "      <td>0.275862</td>\n",
              "      <td>0.007812</td>\n",
              "      <td>0.007812</td>\n",
              "      <td>0.007812</td>\n",
              "      <td>0.000000</td>\n",
              "      <td>0.000000</td>\n",
              "      <td>male</td>\n",
              "    </tr>\n",
              "    <tr>\n",
              "      <th>1</th>\n",
              "      <td>0.066009</td>\n",
              "      <td>0.067310</td>\n",
              "      <td>0.040229</td>\n",
              "      <td>0.019414</td>\n",
              "      <td>0.092666</td>\n",
              "      <td>0.073252</td>\n",
              "      <td>22.423285</td>\n",
              "      <td>634.613855</td>\n",
              "      <td>0.892193</td>\n",
              "      <td>0.513724</td>\n",
              "      <td>...</td>\n",
              "      <td>0.066009</td>\n",
              "      <td>0.107937</td>\n",
              "      <td>0.015826</td>\n",
              "      <td>0.250000</td>\n",
              "      <td>0.009014</td>\n",
              "      <td>0.007812</td>\n",
              "      <td>0.054688</td>\n",
              "      <td>0.046875</td>\n",
              "      <td>0.052632</td>\n",
              "      <td>male</td>\n",
              "    </tr>\n",
              "    <tr>\n",
              "      <th>2</th>\n",
              "      <td>0.077316</td>\n",
              "      <td>0.083829</td>\n",
              "      <td>0.036718</td>\n",
              "      <td>0.008701</td>\n",
              "      <td>0.131908</td>\n",
              "      <td>0.123207</td>\n",
              "      <td>30.757155</td>\n",
              "      <td>1024.927705</td>\n",
              "      <td>0.846389</td>\n",
              "      <td>0.478905</td>\n",
              "      <td>...</td>\n",
              "      <td>0.077316</td>\n",
              "      <td>0.098706</td>\n",
              "      <td>0.015656</td>\n",
              "      <td>0.271186</td>\n",
              "      <td>0.007990</td>\n",
              "      <td>0.007812</td>\n",
              "      <td>0.015625</td>\n",
              "      <td>0.007812</td>\n",
              "      <td>0.046512</td>\n",
              "      <td>male</td>\n",
              "    </tr>\n",
              "    <tr>\n",
              "      <th>3</th>\n",
              "      <td>0.151228</td>\n",
              "      <td>0.072111</td>\n",
              "      <td>0.158011</td>\n",
              "      <td>0.096582</td>\n",
              "      <td>0.207955</td>\n",
              "      <td>0.111374</td>\n",
              "      <td>1.232831</td>\n",
              "      <td>4.177296</td>\n",
              "      <td>0.963322</td>\n",
              "      <td>0.727232</td>\n",
              "      <td>...</td>\n",
              "      <td>0.151228</td>\n",
              "      <td>0.088965</td>\n",
              "      <td>0.017798</td>\n",
              "      <td>0.250000</td>\n",
              "      <td>0.201497</td>\n",
              "      <td>0.007812</td>\n",
              "      <td>0.562500</td>\n",
              "      <td>0.554688</td>\n",
              "      <td>0.247119</td>\n",
              "      <td>male</td>\n",
              "    </tr>\n",
              "    <tr>\n",
              "      <th>4</th>\n",
              "      <td>0.135120</td>\n",
              "      <td>0.079146</td>\n",
              "      <td>0.124656</td>\n",
              "      <td>0.078720</td>\n",
              "      <td>0.206045</td>\n",
              "      <td>0.127325</td>\n",
              "      <td>1.101174</td>\n",
              "      <td>4.333713</td>\n",
              "      <td>0.971955</td>\n",
              "      <td>0.783568</td>\n",
              "      <td>...</td>\n",
              "      <td>0.135120</td>\n",
              "      <td>0.106398</td>\n",
              "      <td>0.016931</td>\n",
              "      <td>0.266667</td>\n",
              "      <td>0.712812</td>\n",
              "      <td>0.007812</td>\n",
              "      <td>5.484375</td>\n",
              "      <td>5.476562</td>\n",
              "      <td>0.208274</td>\n",
              "      <td>male</td>\n",
              "    </tr>\n",
              "    <tr>\n",
              "      <th>...</th>\n",
              "      <td>...</td>\n",
              "      <td>...</td>\n",
              "      <td>...</td>\n",
              "      <td>...</td>\n",
              "      <td>...</td>\n",
              "      <td>...</td>\n",
              "      <td>...</td>\n",
              "      <td>...</td>\n",
              "      <td>...</td>\n",
              "      <td>...</td>\n",
              "      <td>...</td>\n",
              "      <td>...</td>\n",
              "      <td>...</td>\n",
              "      <td>...</td>\n",
              "      <td>...</td>\n",
              "      <td>...</td>\n",
              "      <td>...</td>\n",
              "      <td>...</td>\n",
              "      <td>...</td>\n",
              "      <td>...</td>\n",
              "      <td>...</td>\n",
              "    </tr>\n",
              "    <tr>\n",
              "      <th>3163</th>\n",
              "      <td>0.131884</td>\n",
              "      <td>0.084734</td>\n",
              "      <td>0.153707</td>\n",
              "      <td>0.049285</td>\n",
              "      <td>0.201144</td>\n",
              "      <td>0.151859</td>\n",
              "      <td>1.762129</td>\n",
              "      <td>6.630383</td>\n",
              "      <td>0.962934</td>\n",
              "      <td>0.763182</td>\n",
              "      <td>...</td>\n",
              "      <td>0.131884</td>\n",
              "      <td>0.182790</td>\n",
              "      <td>0.083770</td>\n",
              "      <td>0.262295</td>\n",
              "      <td>0.832899</td>\n",
              "      <td>0.007812</td>\n",
              "      <td>4.210938</td>\n",
              "      <td>4.203125</td>\n",
              "      <td>0.161929</td>\n",
              "      <td>female</td>\n",
              "    </tr>\n",
              "    <tr>\n",
              "      <th>3164</th>\n",
              "      <td>0.116221</td>\n",
              "      <td>0.089221</td>\n",
              "      <td>0.076758</td>\n",
              "      <td>0.042718</td>\n",
              "      <td>0.204911</td>\n",
              "      <td>0.162193</td>\n",
              "      <td>0.693730</td>\n",
              "      <td>2.503954</td>\n",
              "      <td>0.960716</td>\n",
              "      <td>0.709570</td>\n",
              "      <td>...</td>\n",
              "      <td>0.116221</td>\n",
              "      <td>0.188980</td>\n",
              "      <td>0.034409</td>\n",
              "      <td>0.275862</td>\n",
              "      <td>0.909856</td>\n",
              "      <td>0.039062</td>\n",
              "      <td>3.679688</td>\n",
              "      <td>3.640625</td>\n",
              "      <td>0.277897</td>\n",
              "      <td>female</td>\n",
              "    </tr>\n",
              "    <tr>\n",
              "      <th>3165</th>\n",
              "      <td>0.142056</td>\n",
              "      <td>0.095798</td>\n",
              "      <td>0.183731</td>\n",
              "      <td>0.033424</td>\n",
              "      <td>0.224360</td>\n",
              "      <td>0.190936</td>\n",
              "      <td>1.876502</td>\n",
              "      <td>6.604509</td>\n",
              "      <td>0.946854</td>\n",
              "      <td>0.654196</td>\n",
              "      <td>...</td>\n",
              "      <td>0.142056</td>\n",
              "      <td>0.209918</td>\n",
              "      <td>0.039506</td>\n",
              "      <td>0.275862</td>\n",
              "      <td>0.494271</td>\n",
              "      <td>0.007812</td>\n",
              "      <td>2.937500</td>\n",
              "      <td>2.929688</td>\n",
              "      <td>0.194759</td>\n",
              "      <td>female</td>\n",
              "    </tr>\n",
              "    <tr>\n",
              "      <th>3166</th>\n",
              "      <td>0.143659</td>\n",
              "      <td>0.090628</td>\n",
              "      <td>0.184976</td>\n",
              "      <td>0.043508</td>\n",
              "      <td>0.219943</td>\n",
              "      <td>0.176435</td>\n",
              "      <td>1.591065</td>\n",
              "      <td>5.388298</td>\n",
              "      <td>0.950436</td>\n",
              "      <td>0.675470</td>\n",
              "      <td>...</td>\n",
              "      <td>0.143659</td>\n",
              "      <td>0.172375</td>\n",
              "      <td>0.034483</td>\n",
              "      <td>0.250000</td>\n",
              "      <td>0.791360</td>\n",
              "      <td>0.007812</td>\n",
              "      <td>3.593750</td>\n",
              "      <td>3.585938</td>\n",
              "      <td>0.311002</td>\n",
              "      <td>female</td>\n",
              "    </tr>\n",
              "    <tr>\n",
              "      <th>3167</th>\n",
              "      <td>0.165509</td>\n",
              "      <td>0.092884</td>\n",
              "      <td>0.183044</td>\n",
              "      <td>0.070072</td>\n",
              "      <td>0.250827</td>\n",
              "      <td>0.180756</td>\n",
              "      <td>1.705029</td>\n",
              "      <td>5.769115</td>\n",
              "      <td>0.938829</td>\n",
              "      <td>0.601529</td>\n",
              "      <td>...</td>\n",
              "      <td>0.165509</td>\n",
              "      <td>0.185607</td>\n",
              "      <td>0.062257</td>\n",
              "      <td>0.271186</td>\n",
              "      <td>0.227022</td>\n",
              "      <td>0.007812</td>\n",
              "      <td>0.554688</td>\n",
              "      <td>0.546875</td>\n",
              "      <td>0.350000</td>\n",
              "      <td>female</td>\n",
              "    </tr>\n",
              "  </tbody>\n",
              "</table>\n",
              "<p>3168 rows × 21 columns</p>\n",
              "</div>\n",
              "      <button class=\"colab-df-convert\" onclick=\"convertToInteractive('df-24d969a6-1678-4038-b156-98ee5a132ea8')\"\n",
              "              title=\"Convert this dataframe to an interactive table.\"\n",
              "              style=\"display:none;\">\n",
              "        \n",
              "  <svg xmlns=\"http://www.w3.org/2000/svg\" height=\"24px\"viewBox=\"0 0 24 24\"\n",
              "       width=\"24px\">\n",
              "    <path d=\"M0 0h24v24H0V0z\" fill=\"none\"/>\n",
              "    <path d=\"M18.56 5.44l.94 2.06.94-2.06 2.06-.94-2.06-.94-.94-2.06-.94 2.06-2.06.94zm-11 1L8.5 8.5l.94-2.06 2.06-.94-2.06-.94L8.5 2.5l-.94 2.06-2.06.94zm10 10l.94 2.06.94-2.06 2.06-.94-2.06-.94-.94-2.06-.94 2.06-2.06.94z\"/><path d=\"M17.41 7.96l-1.37-1.37c-.4-.4-.92-.59-1.43-.59-.52 0-1.04.2-1.43.59L10.3 9.45l-7.72 7.72c-.78.78-.78 2.05 0 2.83L4 21.41c.39.39.9.59 1.41.59.51 0 1.02-.2 1.41-.59l7.78-7.78 2.81-2.81c.8-.78.8-2.07 0-2.86zM5.41 20L4 18.59l7.72-7.72 1.47 1.35L5.41 20z\"/>\n",
              "  </svg>\n",
              "      </button>\n",
              "      \n",
              "  <style>\n",
              "    .colab-df-container {\n",
              "      display:flex;\n",
              "      flex-wrap:wrap;\n",
              "      gap: 12px;\n",
              "    }\n",
              "\n",
              "    .colab-df-convert {\n",
              "      background-color: #E8F0FE;\n",
              "      border: none;\n",
              "      border-radius: 50%;\n",
              "      cursor: pointer;\n",
              "      display: none;\n",
              "      fill: #1967D2;\n",
              "      height: 32px;\n",
              "      padding: 0 0 0 0;\n",
              "      width: 32px;\n",
              "    }\n",
              "\n",
              "    .colab-df-convert:hover {\n",
              "      background-color: #E2EBFA;\n",
              "      box-shadow: 0px 1px 2px rgba(60, 64, 67, 0.3), 0px 1px 3px 1px rgba(60, 64, 67, 0.15);\n",
              "      fill: #174EA6;\n",
              "    }\n",
              "\n",
              "    [theme=dark] .colab-df-convert {\n",
              "      background-color: #3B4455;\n",
              "      fill: #D2E3FC;\n",
              "    }\n",
              "\n",
              "    [theme=dark] .colab-df-convert:hover {\n",
              "      background-color: #434B5C;\n",
              "      box-shadow: 0px 1px 3px 1px rgba(0, 0, 0, 0.15);\n",
              "      filter: drop-shadow(0px 1px 2px rgba(0, 0, 0, 0.3));\n",
              "      fill: #FFFFFF;\n",
              "    }\n",
              "  </style>\n",
              "\n",
              "      <script>\n",
              "        const buttonEl =\n",
              "          document.querySelector('#df-24d969a6-1678-4038-b156-98ee5a132ea8 button.colab-df-convert');\n",
              "        buttonEl.style.display =\n",
              "          google.colab.kernel.accessAllowed ? 'block' : 'none';\n",
              "\n",
              "        async function convertToInteractive(key) {\n",
              "          const element = document.querySelector('#df-24d969a6-1678-4038-b156-98ee5a132ea8');\n",
              "          const dataTable =\n",
              "            await google.colab.kernel.invokeFunction('convertToInteractive',\n",
              "                                                     [key], {});\n",
              "          if (!dataTable) return;\n",
              "\n",
              "          const docLinkHtml = 'Like what you see? Visit the ' +\n",
              "            '<a target=\"_blank\" href=https://colab.research.google.com/notebooks/data_table.ipynb>data table notebook</a>'\n",
              "            + ' to learn more about interactive tables.';\n",
              "          element.innerHTML = '';\n",
              "          dataTable['output_type'] = 'display_data';\n",
              "          await google.colab.output.renderOutput(dataTable, element);\n",
              "          const docLink = document.createElement('div');\n",
              "          docLink.innerHTML = docLinkHtml;\n",
              "          element.appendChild(docLink);\n",
              "        }\n",
              "      </script>\n",
              "    </div>\n",
              "  </div>\n",
              "  "
            ]
          },
          "metadata": {},
          "execution_count": 3
        }
      ],
      "source": [
        "data"
      ]
    },
    {
      "cell_type": "code",
      "execution_count": 4,
      "metadata": {
        "execution": {
          "iopub.execute_input": "2020-11-09T15:52:42.565645Z",
          "iopub.status.busy": "2020-11-09T15:52:42.564399Z",
          "iopub.status.idle": "2020-11-09T15:52:42.582516Z",
          "shell.execute_reply": "2020-11-09T15:52:42.581874Z"
        },
        "papermill": {
          "duration": 0.049505,
          "end_time": "2020-11-09T15:52:42.582659",
          "exception": false,
          "start_time": "2020-11-09T15:52:42.533154",
          "status": "completed"
        },
        "tags": [],
        "colab": {
          "base_uri": "https://localhost:8080/"
        },
        "id": "TSEcKLyR3QjD",
        "outputId": "ce78f2af-2ea4-4ef5-ff49-f7b4678f1f30"
      },
      "outputs": [
        {
          "output_type": "stream",
          "name": "stdout",
          "text": [
            "<class 'pandas.core.frame.DataFrame'>\n",
            "RangeIndex: 3168 entries, 0 to 3167\n",
            "Data columns (total 21 columns):\n",
            " #   Column    Non-Null Count  Dtype  \n",
            "---  ------    --------------  -----  \n",
            " 0   meanfreq  3168 non-null   float64\n",
            " 1   sd        3168 non-null   float64\n",
            " 2   median    3168 non-null   float64\n",
            " 3   Q25       3168 non-null   float64\n",
            " 4   Q75       3168 non-null   float64\n",
            " 5   IQR       3168 non-null   float64\n",
            " 6   skew      3168 non-null   float64\n",
            " 7   kurt      3168 non-null   float64\n",
            " 8   sp.ent    3168 non-null   float64\n",
            " 9   sfm       3168 non-null   float64\n",
            " 10  mode      3168 non-null   float64\n",
            " 11  centroid  3168 non-null   float64\n",
            " 12  meanfun   3168 non-null   float64\n",
            " 13  minfun    3168 non-null   float64\n",
            " 14  maxfun    3168 non-null   float64\n",
            " 15  meandom   3168 non-null   float64\n",
            " 16  mindom    3168 non-null   float64\n",
            " 17  maxdom    3168 non-null   float64\n",
            " 18  dfrange   3168 non-null   float64\n",
            " 19  modindx   3168 non-null   float64\n",
            " 20  label     3168 non-null   object \n",
            "dtypes: float64(20), object(1)\n",
            "memory usage: 519.9+ KB\n"
          ]
        }
      ],
      "source": [
        "data.info()"
      ]
    },
    {
      "cell_type": "markdown",
      "metadata": {
        "papermill": {
          "duration": 0.024074,
          "end_time": "2020-11-09T15:52:42.632643",
          "exception": false,
          "start_time": "2020-11-09T15:52:42.608569",
          "status": "completed"
        },
        "tags": [],
        "id": "GYqaKP_j3QjE"
      },
      "source": [
        "# Encoding Labels"
      ]
    },
    {
      "cell_type": "code",
      "execution_count": 5,
      "metadata": {
        "execution": {
          "iopub.execute_input": "2020-11-09T15:52:42.690357Z",
          "iopub.status.busy": "2020-11-09T15:52:42.689209Z",
          "iopub.status.idle": "2020-11-09T15:52:42.692850Z",
          "shell.execute_reply": "2020-11-09T15:52:42.692091Z"
        },
        "papermill": {
          "duration": 0.035309,
          "end_time": "2020-11-09T15:52:42.692986",
          "exception": false,
          "start_time": "2020-11-09T15:52:42.657677",
          "status": "completed"
        },
        "tags": [],
        "id": "Izw-2_qM3QjF"
      },
      "outputs": [],
      "source": [
        "label_encoder = LabelEncoder()\n",
        "\n",
        "data['label'] = label_encoder.fit_transform(data['label'])"
      ]
    },
    {
      "cell_type": "code",
      "execution_count": 6,
      "metadata": {
        "execution": {
          "iopub.execute_input": "2020-11-09T15:52:42.748959Z",
          "iopub.status.busy": "2020-11-09T15:52:42.747910Z",
          "iopub.status.idle": "2020-11-09T15:52:42.753029Z",
          "shell.execute_reply": "2020-11-09T15:52:42.752263Z"
        },
        "papermill": {
          "duration": 0.035584,
          "end_time": "2020-11-09T15:52:42.753170",
          "exception": false,
          "start_time": "2020-11-09T15:52:42.717586",
          "status": "completed"
        },
        "tags": [],
        "colab": {
          "base_uri": "https://localhost:8080/"
        },
        "id": "_5snODv73QjF",
        "outputId": "f910ca31-2bce-4187-95d7-3d1657410e80"
      },
      "outputs": [
        {
          "output_type": "execute_result",
          "data": {
            "text/plain": [
              "{0: 'female', 1: 'male'}"
            ]
          },
          "metadata": {},
          "execution_count": 6
        }
      ],
      "source": [
        "dict(enumerate(label_encoder.classes_))"
      ]
    },
    {
      "cell_type": "code",
      "execution_count": 7,
      "metadata": {
        "execution": {
          "iopub.execute_input": "2020-11-09T15:52:42.810472Z",
          "iopub.status.busy": "2020-11-09T15:52:42.809651Z",
          "iopub.status.idle": "2020-11-09T15:52:42.847366Z",
          "shell.execute_reply": "2020-11-09T15:52:42.846447Z"
        },
        "papermill": {
          "duration": 0.069333,
          "end_time": "2020-11-09T15:52:42.847515",
          "exception": false,
          "start_time": "2020-11-09T15:52:42.778182",
          "status": "completed"
        },
        "tags": [],
        "colab": {
          "base_uri": "https://localhost:8080/",
          "height": 487
        },
        "id": "wdGlocah3QjG",
        "outputId": "f450d2a8-279d-4a85-d7f3-f9bcdafcd702"
      },
      "outputs": [
        {
          "output_type": "execute_result",
          "data": {
            "text/plain": [
              "      meanfreq        sd    median       Q25       Q75       IQR       skew  \\\n",
              "0     0.059781  0.064241  0.032027  0.015071  0.090193  0.075122  12.863462   \n",
              "1     0.066009  0.067310  0.040229  0.019414  0.092666  0.073252  22.423285   \n",
              "2     0.077316  0.083829  0.036718  0.008701  0.131908  0.123207  30.757155   \n",
              "3     0.151228  0.072111  0.158011  0.096582  0.207955  0.111374   1.232831   \n",
              "4     0.135120  0.079146  0.124656  0.078720  0.206045  0.127325   1.101174   \n",
              "...        ...       ...       ...       ...       ...       ...        ...   \n",
              "3163  0.131884  0.084734  0.153707  0.049285  0.201144  0.151859   1.762129   \n",
              "3164  0.116221  0.089221  0.076758  0.042718  0.204911  0.162193   0.693730   \n",
              "3165  0.142056  0.095798  0.183731  0.033424  0.224360  0.190936   1.876502   \n",
              "3166  0.143659  0.090628  0.184976  0.043508  0.219943  0.176435   1.591065   \n",
              "3167  0.165509  0.092884  0.183044  0.070072  0.250827  0.180756   1.705029   \n",
              "\n",
              "             kurt    sp.ent       sfm  ...  centroid   meanfun    minfun  \\\n",
              "0      274.402906  0.893369  0.491918  ...  0.059781  0.084279  0.015702   \n",
              "1      634.613855  0.892193  0.513724  ...  0.066009  0.107937  0.015826   \n",
              "2     1024.927705  0.846389  0.478905  ...  0.077316  0.098706  0.015656   \n",
              "3        4.177296  0.963322  0.727232  ...  0.151228  0.088965  0.017798   \n",
              "4        4.333713  0.971955  0.783568  ...  0.135120  0.106398  0.016931   \n",
              "...           ...       ...       ...  ...       ...       ...       ...   \n",
              "3163     6.630383  0.962934  0.763182  ...  0.131884  0.182790  0.083770   \n",
              "3164     2.503954  0.960716  0.709570  ...  0.116221  0.188980  0.034409   \n",
              "3165     6.604509  0.946854  0.654196  ...  0.142056  0.209918  0.039506   \n",
              "3166     5.388298  0.950436  0.675470  ...  0.143659  0.172375  0.034483   \n",
              "3167     5.769115  0.938829  0.601529  ...  0.165509  0.185607  0.062257   \n",
              "\n",
              "        maxfun   meandom    mindom    maxdom   dfrange   modindx  label  \n",
              "0     0.275862  0.007812  0.007812  0.007812  0.000000  0.000000      1  \n",
              "1     0.250000  0.009014  0.007812  0.054688  0.046875  0.052632      1  \n",
              "2     0.271186  0.007990  0.007812  0.015625  0.007812  0.046512      1  \n",
              "3     0.250000  0.201497  0.007812  0.562500  0.554688  0.247119      1  \n",
              "4     0.266667  0.712812  0.007812  5.484375  5.476562  0.208274      1  \n",
              "...        ...       ...       ...       ...       ...       ...    ...  \n",
              "3163  0.262295  0.832899  0.007812  4.210938  4.203125  0.161929      0  \n",
              "3164  0.275862  0.909856  0.039062  3.679688  3.640625  0.277897      0  \n",
              "3165  0.275862  0.494271  0.007812  2.937500  2.929688  0.194759      0  \n",
              "3166  0.250000  0.791360  0.007812  3.593750  3.585938  0.311002      0  \n",
              "3167  0.271186  0.227022  0.007812  0.554688  0.546875  0.350000      0  \n",
              "\n",
              "[3168 rows x 21 columns]"
            ],
            "text/html": [
              "\n",
              "  <div id=\"df-acd9fc40-5afd-4d8a-9387-fa1fb13241c8\">\n",
              "    <div class=\"colab-df-container\">\n",
              "      <div>\n",
              "<style scoped>\n",
              "    .dataframe tbody tr th:only-of-type {\n",
              "        vertical-align: middle;\n",
              "    }\n",
              "\n",
              "    .dataframe tbody tr th {\n",
              "        vertical-align: top;\n",
              "    }\n",
              "\n",
              "    .dataframe thead th {\n",
              "        text-align: right;\n",
              "    }\n",
              "</style>\n",
              "<table border=\"1\" class=\"dataframe\">\n",
              "  <thead>\n",
              "    <tr style=\"text-align: right;\">\n",
              "      <th></th>\n",
              "      <th>meanfreq</th>\n",
              "      <th>sd</th>\n",
              "      <th>median</th>\n",
              "      <th>Q25</th>\n",
              "      <th>Q75</th>\n",
              "      <th>IQR</th>\n",
              "      <th>skew</th>\n",
              "      <th>kurt</th>\n",
              "      <th>sp.ent</th>\n",
              "      <th>sfm</th>\n",
              "      <th>...</th>\n",
              "      <th>centroid</th>\n",
              "      <th>meanfun</th>\n",
              "      <th>minfun</th>\n",
              "      <th>maxfun</th>\n",
              "      <th>meandom</th>\n",
              "      <th>mindom</th>\n",
              "      <th>maxdom</th>\n",
              "      <th>dfrange</th>\n",
              "      <th>modindx</th>\n",
              "      <th>label</th>\n",
              "    </tr>\n",
              "  </thead>\n",
              "  <tbody>\n",
              "    <tr>\n",
              "      <th>0</th>\n",
              "      <td>0.059781</td>\n",
              "      <td>0.064241</td>\n",
              "      <td>0.032027</td>\n",
              "      <td>0.015071</td>\n",
              "      <td>0.090193</td>\n",
              "      <td>0.075122</td>\n",
              "      <td>12.863462</td>\n",
              "      <td>274.402906</td>\n",
              "      <td>0.893369</td>\n",
              "      <td>0.491918</td>\n",
              "      <td>...</td>\n",
              "      <td>0.059781</td>\n",
              "      <td>0.084279</td>\n",
              "      <td>0.015702</td>\n",
              "      <td>0.275862</td>\n",
              "      <td>0.007812</td>\n",
              "      <td>0.007812</td>\n",
              "      <td>0.007812</td>\n",
              "      <td>0.000000</td>\n",
              "      <td>0.000000</td>\n",
              "      <td>1</td>\n",
              "    </tr>\n",
              "    <tr>\n",
              "      <th>1</th>\n",
              "      <td>0.066009</td>\n",
              "      <td>0.067310</td>\n",
              "      <td>0.040229</td>\n",
              "      <td>0.019414</td>\n",
              "      <td>0.092666</td>\n",
              "      <td>0.073252</td>\n",
              "      <td>22.423285</td>\n",
              "      <td>634.613855</td>\n",
              "      <td>0.892193</td>\n",
              "      <td>0.513724</td>\n",
              "      <td>...</td>\n",
              "      <td>0.066009</td>\n",
              "      <td>0.107937</td>\n",
              "      <td>0.015826</td>\n",
              "      <td>0.250000</td>\n",
              "      <td>0.009014</td>\n",
              "      <td>0.007812</td>\n",
              "      <td>0.054688</td>\n",
              "      <td>0.046875</td>\n",
              "      <td>0.052632</td>\n",
              "      <td>1</td>\n",
              "    </tr>\n",
              "    <tr>\n",
              "      <th>2</th>\n",
              "      <td>0.077316</td>\n",
              "      <td>0.083829</td>\n",
              "      <td>0.036718</td>\n",
              "      <td>0.008701</td>\n",
              "      <td>0.131908</td>\n",
              "      <td>0.123207</td>\n",
              "      <td>30.757155</td>\n",
              "      <td>1024.927705</td>\n",
              "      <td>0.846389</td>\n",
              "      <td>0.478905</td>\n",
              "      <td>...</td>\n",
              "      <td>0.077316</td>\n",
              "      <td>0.098706</td>\n",
              "      <td>0.015656</td>\n",
              "      <td>0.271186</td>\n",
              "      <td>0.007990</td>\n",
              "      <td>0.007812</td>\n",
              "      <td>0.015625</td>\n",
              "      <td>0.007812</td>\n",
              "      <td>0.046512</td>\n",
              "      <td>1</td>\n",
              "    </tr>\n",
              "    <tr>\n",
              "      <th>3</th>\n",
              "      <td>0.151228</td>\n",
              "      <td>0.072111</td>\n",
              "      <td>0.158011</td>\n",
              "      <td>0.096582</td>\n",
              "      <td>0.207955</td>\n",
              "      <td>0.111374</td>\n",
              "      <td>1.232831</td>\n",
              "      <td>4.177296</td>\n",
              "      <td>0.963322</td>\n",
              "      <td>0.727232</td>\n",
              "      <td>...</td>\n",
              "      <td>0.151228</td>\n",
              "      <td>0.088965</td>\n",
              "      <td>0.017798</td>\n",
              "      <td>0.250000</td>\n",
              "      <td>0.201497</td>\n",
              "      <td>0.007812</td>\n",
              "      <td>0.562500</td>\n",
              "      <td>0.554688</td>\n",
              "      <td>0.247119</td>\n",
              "      <td>1</td>\n",
              "    </tr>\n",
              "    <tr>\n",
              "      <th>4</th>\n",
              "      <td>0.135120</td>\n",
              "      <td>0.079146</td>\n",
              "      <td>0.124656</td>\n",
              "      <td>0.078720</td>\n",
              "      <td>0.206045</td>\n",
              "      <td>0.127325</td>\n",
              "      <td>1.101174</td>\n",
              "      <td>4.333713</td>\n",
              "      <td>0.971955</td>\n",
              "      <td>0.783568</td>\n",
              "      <td>...</td>\n",
              "      <td>0.135120</td>\n",
              "      <td>0.106398</td>\n",
              "      <td>0.016931</td>\n",
              "      <td>0.266667</td>\n",
              "      <td>0.712812</td>\n",
              "      <td>0.007812</td>\n",
              "      <td>5.484375</td>\n",
              "      <td>5.476562</td>\n",
              "      <td>0.208274</td>\n",
              "      <td>1</td>\n",
              "    </tr>\n",
              "    <tr>\n",
              "      <th>...</th>\n",
              "      <td>...</td>\n",
              "      <td>...</td>\n",
              "      <td>...</td>\n",
              "      <td>...</td>\n",
              "      <td>...</td>\n",
              "      <td>...</td>\n",
              "      <td>...</td>\n",
              "      <td>...</td>\n",
              "      <td>...</td>\n",
              "      <td>...</td>\n",
              "      <td>...</td>\n",
              "      <td>...</td>\n",
              "      <td>...</td>\n",
              "      <td>...</td>\n",
              "      <td>...</td>\n",
              "      <td>...</td>\n",
              "      <td>...</td>\n",
              "      <td>...</td>\n",
              "      <td>...</td>\n",
              "      <td>...</td>\n",
              "      <td>...</td>\n",
              "    </tr>\n",
              "    <tr>\n",
              "      <th>3163</th>\n",
              "      <td>0.131884</td>\n",
              "      <td>0.084734</td>\n",
              "      <td>0.153707</td>\n",
              "      <td>0.049285</td>\n",
              "      <td>0.201144</td>\n",
              "      <td>0.151859</td>\n",
              "      <td>1.762129</td>\n",
              "      <td>6.630383</td>\n",
              "      <td>0.962934</td>\n",
              "      <td>0.763182</td>\n",
              "      <td>...</td>\n",
              "      <td>0.131884</td>\n",
              "      <td>0.182790</td>\n",
              "      <td>0.083770</td>\n",
              "      <td>0.262295</td>\n",
              "      <td>0.832899</td>\n",
              "      <td>0.007812</td>\n",
              "      <td>4.210938</td>\n",
              "      <td>4.203125</td>\n",
              "      <td>0.161929</td>\n",
              "      <td>0</td>\n",
              "    </tr>\n",
              "    <tr>\n",
              "      <th>3164</th>\n",
              "      <td>0.116221</td>\n",
              "      <td>0.089221</td>\n",
              "      <td>0.076758</td>\n",
              "      <td>0.042718</td>\n",
              "      <td>0.204911</td>\n",
              "      <td>0.162193</td>\n",
              "      <td>0.693730</td>\n",
              "      <td>2.503954</td>\n",
              "      <td>0.960716</td>\n",
              "      <td>0.709570</td>\n",
              "      <td>...</td>\n",
              "      <td>0.116221</td>\n",
              "      <td>0.188980</td>\n",
              "      <td>0.034409</td>\n",
              "      <td>0.275862</td>\n",
              "      <td>0.909856</td>\n",
              "      <td>0.039062</td>\n",
              "      <td>3.679688</td>\n",
              "      <td>3.640625</td>\n",
              "      <td>0.277897</td>\n",
              "      <td>0</td>\n",
              "    </tr>\n",
              "    <tr>\n",
              "      <th>3165</th>\n",
              "      <td>0.142056</td>\n",
              "      <td>0.095798</td>\n",
              "      <td>0.183731</td>\n",
              "      <td>0.033424</td>\n",
              "      <td>0.224360</td>\n",
              "      <td>0.190936</td>\n",
              "      <td>1.876502</td>\n",
              "      <td>6.604509</td>\n",
              "      <td>0.946854</td>\n",
              "      <td>0.654196</td>\n",
              "      <td>...</td>\n",
              "      <td>0.142056</td>\n",
              "      <td>0.209918</td>\n",
              "      <td>0.039506</td>\n",
              "      <td>0.275862</td>\n",
              "      <td>0.494271</td>\n",
              "      <td>0.007812</td>\n",
              "      <td>2.937500</td>\n",
              "      <td>2.929688</td>\n",
              "      <td>0.194759</td>\n",
              "      <td>0</td>\n",
              "    </tr>\n",
              "    <tr>\n",
              "      <th>3166</th>\n",
              "      <td>0.143659</td>\n",
              "      <td>0.090628</td>\n",
              "      <td>0.184976</td>\n",
              "      <td>0.043508</td>\n",
              "      <td>0.219943</td>\n",
              "      <td>0.176435</td>\n",
              "      <td>1.591065</td>\n",
              "      <td>5.388298</td>\n",
              "      <td>0.950436</td>\n",
              "      <td>0.675470</td>\n",
              "      <td>...</td>\n",
              "      <td>0.143659</td>\n",
              "      <td>0.172375</td>\n",
              "      <td>0.034483</td>\n",
              "      <td>0.250000</td>\n",
              "      <td>0.791360</td>\n",
              "      <td>0.007812</td>\n",
              "      <td>3.593750</td>\n",
              "      <td>3.585938</td>\n",
              "      <td>0.311002</td>\n",
              "      <td>0</td>\n",
              "    </tr>\n",
              "    <tr>\n",
              "      <th>3167</th>\n",
              "      <td>0.165509</td>\n",
              "      <td>0.092884</td>\n",
              "      <td>0.183044</td>\n",
              "      <td>0.070072</td>\n",
              "      <td>0.250827</td>\n",
              "      <td>0.180756</td>\n",
              "      <td>1.705029</td>\n",
              "      <td>5.769115</td>\n",
              "      <td>0.938829</td>\n",
              "      <td>0.601529</td>\n",
              "      <td>...</td>\n",
              "      <td>0.165509</td>\n",
              "      <td>0.185607</td>\n",
              "      <td>0.062257</td>\n",
              "      <td>0.271186</td>\n",
              "      <td>0.227022</td>\n",
              "      <td>0.007812</td>\n",
              "      <td>0.554688</td>\n",
              "      <td>0.546875</td>\n",
              "      <td>0.350000</td>\n",
              "      <td>0</td>\n",
              "    </tr>\n",
              "  </tbody>\n",
              "</table>\n",
              "<p>3168 rows × 21 columns</p>\n",
              "</div>\n",
              "      <button class=\"colab-df-convert\" onclick=\"convertToInteractive('df-acd9fc40-5afd-4d8a-9387-fa1fb13241c8')\"\n",
              "              title=\"Convert this dataframe to an interactive table.\"\n",
              "              style=\"display:none;\">\n",
              "        \n",
              "  <svg xmlns=\"http://www.w3.org/2000/svg\" height=\"24px\"viewBox=\"0 0 24 24\"\n",
              "       width=\"24px\">\n",
              "    <path d=\"M0 0h24v24H0V0z\" fill=\"none\"/>\n",
              "    <path d=\"M18.56 5.44l.94 2.06.94-2.06 2.06-.94-2.06-.94-.94-2.06-.94 2.06-2.06.94zm-11 1L8.5 8.5l.94-2.06 2.06-.94-2.06-.94L8.5 2.5l-.94 2.06-2.06.94zm10 10l.94 2.06.94-2.06 2.06-.94-2.06-.94-.94-2.06-.94 2.06-2.06.94z\"/><path d=\"M17.41 7.96l-1.37-1.37c-.4-.4-.92-.59-1.43-.59-.52 0-1.04.2-1.43.59L10.3 9.45l-7.72 7.72c-.78.78-.78 2.05 0 2.83L4 21.41c.39.39.9.59 1.41.59.51 0 1.02-.2 1.41-.59l7.78-7.78 2.81-2.81c.8-.78.8-2.07 0-2.86zM5.41 20L4 18.59l7.72-7.72 1.47 1.35L5.41 20z\"/>\n",
              "  </svg>\n",
              "      </button>\n",
              "      \n",
              "  <style>\n",
              "    .colab-df-container {\n",
              "      display:flex;\n",
              "      flex-wrap:wrap;\n",
              "      gap: 12px;\n",
              "    }\n",
              "\n",
              "    .colab-df-convert {\n",
              "      background-color: #E8F0FE;\n",
              "      border: none;\n",
              "      border-radius: 50%;\n",
              "      cursor: pointer;\n",
              "      display: none;\n",
              "      fill: #1967D2;\n",
              "      height: 32px;\n",
              "      padding: 0 0 0 0;\n",
              "      width: 32px;\n",
              "    }\n",
              "\n",
              "    .colab-df-convert:hover {\n",
              "      background-color: #E2EBFA;\n",
              "      box-shadow: 0px 1px 2px rgba(60, 64, 67, 0.3), 0px 1px 3px 1px rgba(60, 64, 67, 0.15);\n",
              "      fill: #174EA6;\n",
              "    }\n",
              "\n",
              "    [theme=dark] .colab-df-convert {\n",
              "      background-color: #3B4455;\n",
              "      fill: #D2E3FC;\n",
              "    }\n",
              "\n",
              "    [theme=dark] .colab-df-convert:hover {\n",
              "      background-color: #434B5C;\n",
              "      box-shadow: 0px 1px 3px 1px rgba(0, 0, 0, 0.15);\n",
              "      filter: drop-shadow(0px 1px 2px rgba(0, 0, 0, 0.3));\n",
              "      fill: #FFFFFF;\n",
              "    }\n",
              "  </style>\n",
              "\n",
              "      <script>\n",
              "        const buttonEl =\n",
              "          document.querySelector('#df-acd9fc40-5afd-4d8a-9387-fa1fb13241c8 button.colab-df-convert');\n",
              "        buttonEl.style.display =\n",
              "          google.colab.kernel.accessAllowed ? 'block' : 'none';\n",
              "\n",
              "        async function convertToInteractive(key) {\n",
              "          const element = document.querySelector('#df-acd9fc40-5afd-4d8a-9387-fa1fb13241c8');\n",
              "          const dataTable =\n",
              "            await google.colab.kernel.invokeFunction('convertToInteractive',\n",
              "                                                     [key], {});\n",
              "          if (!dataTable) return;\n",
              "\n",
              "          const docLinkHtml = 'Like what you see? Visit the ' +\n",
              "            '<a target=\"_blank\" href=https://colab.research.google.com/notebooks/data_table.ipynb>data table notebook</a>'\n",
              "            + ' to learn more about interactive tables.';\n",
              "          element.innerHTML = '';\n",
              "          dataTable['output_type'] = 'display_data';\n",
              "          await google.colab.output.renderOutput(dataTable, element);\n",
              "          const docLink = document.createElement('div');\n",
              "          docLink.innerHTML = docLinkHtml;\n",
              "          element.appendChild(docLink);\n",
              "        }\n",
              "      </script>\n",
              "    </div>\n",
              "  </div>\n",
              "  "
            ]
          },
          "metadata": {},
          "execution_count": 7
        }
      ],
      "source": [
        "data"
      ]
    },
    {
      "cell_type": "markdown",
      "metadata": {
        "papermill": {
          "duration": 0.02527,
          "end_time": "2020-11-09T15:52:42.899535",
          "exception": false,
          "start_time": "2020-11-09T15:52:42.874265",
          "status": "completed"
        },
        "tags": [],
        "id": "6nd3Cnxu3QjH"
      },
      "source": [
        "# Splitting and Scaling"
      ]
    },
    {
      "cell_type": "code",
      "execution_count": 8,
      "metadata": {
        "execution": {
          "iopub.execute_input": "2020-11-09T15:52:42.963093Z",
          "iopub.status.busy": "2020-11-09T15:52:42.962022Z",
          "iopub.status.idle": "2020-11-09T15:52:42.967620Z",
          "shell.execute_reply": "2020-11-09T15:52:42.966713Z"
        },
        "papermill": {
          "duration": 0.041299,
          "end_time": "2020-11-09T15:52:42.967791",
          "exception": false,
          "start_time": "2020-11-09T15:52:42.926492",
          "status": "completed"
        },
        "tags": [],
        "id": "bmiBvsXA3QjH"
      },
      "outputs": [],
      "source": [
        "y = data['label'].copy()\n",
        "X = data.drop('label', axis=1).copy()"
      ]
    },
    {
      "cell_type": "code",
      "execution_count": 9,
      "metadata": {
        "execution": {
          "iopub.execute_input": "2020-11-09T15:52:43.031505Z",
          "iopub.status.busy": "2020-11-09T15:52:43.030485Z",
          "iopub.status.idle": "2020-11-09T15:52:43.039987Z",
          "shell.execute_reply": "2020-11-09T15:52:43.039323Z"
        },
        "papermill": {
          "duration": 0.045469,
          "end_time": "2020-11-09T15:52:43.040143",
          "exception": false,
          "start_time": "2020-11-09T15:52:42.994674",
          "status": "completed"
        },
        "tags": [],
        "id": "SMz0XrTD3QjI"
      },
      "outputs": [],
      "source": [
        "scaler = StandardScaler()\n",
        "\n",
        "X = scaler.fit_transform(X)"
      ]
    },
    {
      "cell_type": "code",
      "execution_count": 10,
      "metadata": {
        "execution": {
          "iopub.execute_input": "2020-11-09T15:52:43.102324Z",
          "iopub.status.busy": "2020-11-09T15:52:43.101418Z",
          "iopub.status.idle": "2020-11-09T15:52:43.105885Z",
          "shell.execute_reply": "2020-11-09T15:52:43.105107Z"
        },
        "papermill": {
          "duration": 0.037974,
          "end_time": "2020-11-09T15:52:43.106025",
          "exception": false,
          "start_time": "2020-11-09T15:52:43.068051",
          "status": "completed"
        },
        "tags": [],
        "id": "0D5Klsmd3QjI"
      },
      "outputs": [],
      "source": [
        "X_train, X_test, y_train, y_test = train_test_split(X, y, train_size=0.7, random_state=42)"
      ]
    },
    {
      "cell_type": "markdown",
      "metadata": {
        "papermill": {
          "duration": 0.027198,
          "end_time": "2020-11-09T15:52:43.160122",
          "exception": false,
          "start_time": "2020-11-09T15:52:43.132924",
          "status": "completed"
        },
        "tags": [],
        "id": "5lXOdK4F3QjJ"
      },
      "source": [
        "# Modeling and Training"
      ]
    },
    {
      "cell_type": "code",
      "execution_count": 11,
      "metadata": {
        "execution": {
          "iopub.execute_input": "2020-11-09T15:52:43.221903Z",
          "iopub.status.busy": "2020-11-09T15:52:43.220661Z",
          "iopub.status.idle": "2020-11-09T15:52:43.225513Z",
          "shell.execute_reply": "2020-11-09T15:52:43.224879Z"
        },
        "papermill": {
          "duration": 0.038583,
          "end_time": "2020-11-09T15:52:43.225662",
          "exception": false,
          "start_time": "2020-11-09T15:52:43.187079",
          "status": "completed"
        },
        "tags": [],
        "colab": {
          "base_uri": "https://localhost:8080/"
        },
        "id": "NsJ7C9Pv3QjJ",
        "outputId": "fc738fd2-cab1-42e7-9365-892167661a84"
      },
      "outputs": [
        {
          "output_type": "execute_result",
          "data": {
            "text/plain": [
              "(3168, 20)"
            ]
          },
          "metadata": {},
          "execution_count": 11
        }
      ],
      "source": [
        "X.shape"
      ]
    },
    {
      "cell_type": "code",
      "execution_count": 12,
      "metadata": {
        "execution": {
          "iopub.execute_input": "2020-11-09T15:52:43.292324Z",
          "iopub.status.busy": "2020-11-09T15:52:43.291464Z",
          "iopub.status.idle": "2020-11-09T15:52:43.410453Z",
          "shell.execute_reply": "2020-11-09T15:52:43.409645Z"
        },
        "papermill": {
          "duration": 0.15516,
          "end_time": "2020-11-09T15:52:43.410602",
          "exception": false,
          "start_time": "2020-11-09T15:52:43.255442",
          "status": "completed"
        },
        "tags": [],
        "id": "WBPHmHD-3QjK"
      },
      "outputs": [],
      "source": [
        "inputs = tf.keras.Input(shape=(X.shape[1],))\n",
        "\n",
        "x = tf.keras.layers.Dense(64, activation='relu')(inputs)\n",
        "x = tf.keras.layers.Dense(64, activation='relu')(x)\n",
        "\n",
        "outputs = tf.keras.layers.Dense(1, activation='sigmoid')(x)\n",
        "\n",
        "model = tf.keras.Model(inputs, outputs)"
      ]
    },
    {
      "cell_type": "code",
      "execution_count": 13,
      "metadata": {
        "execution": {
          "iopub.execute_input": "2020-11-09T15:52:43.475178Z",
          "iopub.status.busy": "2020-11-09T15:52:43.474283Z",
          "iopub.status.idle": "2020-11-09T15:52:43.479593Z",
          "shell.execute_reply": "2020-11-09T15:52:43.478481Z"
        },
        "papermill": {
          "duration": 0.041688,
          "end_time": "2020-11-09T15:52:43.479817",
          "exception": false,
          "start_time": "2020-11-09T15:52:43.438129",
          "status": "completed"
        },
        "tags": [],
        "colab": {
          "base_uri": "https://localhost:8080/"
        },
        "id": "BzTaYQlv3QjK",
        "outputId": "e3e2b20d-cfbb-4016-e655-af4440bd0307"
      },
      "outputs": [
        {
          "output_type": "stream",
          "name": "stdout",
          "text": [
            "Model: \"model\"\n",
            "_________________________________________________________________\n",
            " Layer (type)                Output Shape              Param #   \n",
            "=================================================================\n",
            " input_1 (InputLayer)        [(None, 20)]              0         \n",
            "                                                                 \n",
            " dense (Dense)               (None, 64)                1344      \n",
            "                                                                 \n",
            " dense_1 (Dense)             (None, 64)                4160      \n",
            "                                                                 \n",
            " dense_2 (Dense)             (None, 1)                 65        \n",
            "                                                                 \n",
            "=================================================================\n",
            "Total params: 5,569\n",
            "Trainable params: 5,569\n",
            "Non-trainable params: 0\n",
            "_________________________________________________________________\n"
          ]
        }
      ],
      "source": [
        "model.summary()"
      ]
    },
    {
      "cell_type": "code",
      "execution_count": 14,
      "metadata": {
        "execution": {
          "iopub.execute_input": "2020-11-09T15:52:43.549158Z",
          "iopub.status.busy": "2020-11-09T15:52:43.548355Z",
          "iopub.status.idle": "2020-11-09T15:52:47.300702Z",
          "shell.execute_reply": "2020-11-09T15:52:47.299527Z"
        },
        "papermill": {
          "duration": 3.790889,
          "end_time": "2020-11-09T15:52:47.300867",
          "exception": false,
          "start_time": "2020-11-09T15:52:43.509978",
          "status": "completed"
        },
        "tags": [],
        "colab": {
          "base_uri": "https://localhost:8080/"
        },
        "id": "mMDvRs1P3QjL",
        "outputId": "59809571-d26c-4e58-a290-df26902f877f"
      },
      "outputs": [
        {
          "output_type": "stream",
          "name": "stdout",
          "text": [
            "Epoch 1/100\n",
            "56/56 [==============================] - 2s 8ms/step - loss: 0.4926 - accuracy: 0.7795 - auc: 0.8542 - val_loss: 0.2498 - val_accuracy: 0.9527 - val_auc: 0.9923\n",
            "Epoch 2/100\n",
            "56/56 [==============================] - 0s 3ms/step - loss: 0.1696 - accuracy: 0.9616 - auc: 0.9898 - val_loss: 0.1002 - val_accuracy: 0.9797 - val_auc: 0.9951\n",
            "Epoch 3/100\n",
            "56/56 [==============================] - 0s 3ms/step - loss: 0.0969 - accuracy: 0.9679 - auc: 0.9948 - val_loss: 0.0786 - val_accuracy: 0.9797 - val_auc: 0.9953\n",
            "Epoch 4/100\n",
            "56/56 [==============================] - 0s 3ms/step - loss: 0.0772 - accuracy: 0.9752 - auc: 0.9965 - val_loss: 0.0667 - val_accuracy: 0.9820 - val_auc: 0.9963\n",
            "Epoch 5/100\n",
            "56/56 [==============================] - 0s 3ms/step - loss: 0.0699 - accuracy: 0.9763 - auc: 0.9968 - val_loss: 0.0616 - val_accuracy: 0.9842 - val_auc: 0.9963\n",
            "Epoch 6/100\n",
            "56/56 [==============================] - 0s 4ms/step - loss: 0.0662 - accuracy: 0.9786 - auc: 0.9971 - val_loss: 0.0572 - val_accuracy: 0.9842 - val_auc: 0.9973\n",
            "Epoch 7/100\n",
            "56/56 [==============================] - 0s 4ms/step - loss: 0.0609 - accuracy: 0.9808 - auc: 0.9974 - val_loss: 0.0590 - val_accuracy: 0.9842 - val_auc: 0.9968\n",
            "Epoch 8/100\n",
            "56/56 [==============================] - 0s 6ms/step - loss: 0.0575 - accuracy: 0.9814 - auc: 0.9978 - val_loss: 0.0541 - val_accuracy: 0.9887 - val_auc: 0.9971\n",
            "Epoch 9/100\n",
            "56/56 [==============================] - 0s 4ms/step - loss: 0.0527 - accuracy: 0.9820 - auc: 0.9982 - val_loss: 0.0540 - val_accuracy: 0.9865 - val_auc: 0.9974\n",
            "Epoch 10/100\n",
            "56/56 [==============================] - 0s 5ms/step - loss: 0.0513 - accuracy: 0.9842 - auc: 0.9983 - val_loss: 0.0576 - val_accuracy: 0.9887 - val_auc: 0.9968\n",
            "Epoch 11/100\n",
            "56/56 [==============================] - 0s 4ms/step - loss: 0.0495 - accuracy: 0.9831 - auc: 0.9985 - val_loss: 0.0469 - val_accuracy: 0.9865 - val_auc: 0.9980\n",
            "Epoch 12/100\n",
            "56/56 [==============================] - 0s 4ms/step - loss: 0.0458 - accuracy: 0.9848 - auc: 0.9986 - val_loss: 0.0595 - val_accuracy: 0.9842 - val_auc: 0.9969\n",
            "Epoch 13/100\n",
            "56/56 [==============================] - 0s 5ms/step - loss: 0.0456 - accuracy: 0.9853 - auc: 0.9987 - val_loss: 0.0463 - val_accuracy: 0.9910 - val_auc: 0.9981\n",
            "Epoch 14/100\n",
            "56/56 [==============================] - 0s 4ms/step - loss: 0.0408 - accuracy: 0.9865 - auc: 0.9990 - val_loss: 0.0481 - val_accuracy: 0.9887 - val_auc: 0.9977\n",
            "Epoch 15/100\n",
            "56/56 [==============================] - 0s 5ms/step - loss: 0.0403 - accuracy: 0.9870 - auc: 0.9989 - val_loss: 0.0485 - val_accuracy: 0.9887 - val_auc: 0.9976\n",
            "Epoch 16/100\n",
            "56/56 [==============================] - 0s 4ms/step - loss: 0.0368 - accuracy: 0.9853 - auc: 0.9991 - val_loss: 0.0434 - val_accuracy: 0.9887 - val_auc: 0.9983\n",
            "Epoch 17/100\n",
            "56/56 [==============================] - 0s 3ms/step - loss: 0.0352 - accuracy: 0.9859 - auc: 0.9992 - val_loss: 0.0437 - val_accuracy: 0.9887 - val_auc: 0.9982\n",
            "Epoch 18/100\n",
            "56/56 [==============================] - 0s 3ms/step - loss: 0.0331 - accuracy: 0.9887 - auc: 0.9993 - val_loss: 0.0477 - val_accuracy: 0.9865 - val_auc: 0.9981\n",
            "Epoch 19/100\n",
            "56/56 [==============================] - 0s 4ms/step - loss: 0.0336 - accuracy: 0.9859 - auc: 0.9993 - val_loss: 0.0469 - val_accuracy: 0.9842 - val_auc: 0.9979\n"
          ]
        }
      ],
      "source": [
        "model.compile(\n",
        "    optimizer='adam',\n",
        "    loss='binary_crossentropy',\n",
        "    metrics=[\n",
        "        'accuracy',\n",
        "        tf.keras.metrics.AUC(name='auc')\n",
        "    ]\n",
        ")\n",
        "\n",
        "history = model.fit(\n",
        "    X_train,\n",
        "    y_train,\n",
        "    validation_split=0.2,\n",
        "    batch_size=32,\n",
        "    epochs=100,\n",
        "    callbacks=[\n",
        "        tf.keras.callbacks.EarlyStopping(\n",
        "            monitor='val_loss',\n",
        "            patience=3,\n",
        "            restore_best_weights=True\n",
        "        )\n",
        "    ]\n",
        ")"
      ]
    },
    {
      "cell_type": "code",
      "execution_count": 15,
      "metadata": {
        "execution": {
          "iopub.execute_input": "2020-11-09T15:52:47.425466Z",
          "iopub.status.busy": "2020-11-09T15:52:47.424168Z",
          "iopub.status.idle": "2020-11-09T15:52:47.522521Z",
          "shell.execute_reply": "2020-11-09T15:52:47.521687Z"
        },
        "papermill": {
          "duration": 0.156929,
          "end_time": "2020-11-09T15:52:47.522662",
          "exception": false,
          "start_time": "2020-11-09T15:52:47.365733",
          "status": "completed"
        },
        "tags": [],
        "colab": {
          "base_uri": "https://localhost:8080/"
        },
        "id": "HYxWcD2X3QjM",
        "outputId": "87efb30d-36df-44af-988d-19a0d87fff62"
      },
      "outputs": [
        {
          "output_type": "stream",
          "name": "stdout",
          "text": [
            "30/30 [==============================] - 0s 2ms/step - loss: 0.0618 - accuracy: 0.9779 - auc: 0.9978\n"
          ]
        },
        {
          "output_type": "execute_result",
          "data": {
            "text/plain": [
              "[0.06178925186395645, 0.9779179692268372, 0.9977786540985107]"
            ]
          },
          "metadata": {},
          "execution_count": 15
        }
      ],
      "source": [
        "model.evaluate(X_test, y_test)"
      ]
    },
    {
      "cell_type": "markdown",
      "metadata": {
        "papermill": {
          "duration": 0.056035,
          "end_time": "2020-11-09T15:52:47.633923",
          "exception": false,
          "start_time": "2020-11-09T15:52:47.577888",
          "status": "completed"
        },
        "tags": [],
        "id": "l6ADx-Pq3QjN"
      },
      "source": [
        "# Using 2D CNNs"
      ]
    },
    {
      "cell_type": "code",
      "execution_count": 16,
      "metadata": {
        "execution": {
          "iopub.execute_input": "2020-11-09T15:52:47.750412Z",
          "iopub.status.busy": "2020-11-09T15:52:47.749521Z",
          "iopub.status.idle": "2020-11-09T15:52:47.768575Z",
          "shell.execute_reply": "2020-11-09T15:52:47.767870Z"
        },
        "papermill": {
          "duration": 0.08242,
          "end_time": "2020-11-09T15:52:47.768736",
          "exception": false,
          "start_time": "2020-11-09T15:52:47.686316",
          "status": "completed"
        },
        "tags": [],
        "colab": {
          "base_uri": "https://localhost:8080/"
        },
        "id": "KQdeMe8_3QjN",
        "outputId": "3dd34690-51f3-44a0-8f34-c93a78df6888"
      },
      "outputs": [
        {
          "output_type": "stream",
          "name": "stderr",
          "text": [
            "<ipython-input-16-1cd93647b5ab>:1: DeprecationWarning: `np.float` is a deprecated alias for the builtin `float`. To silence this warning, use `float` by itself. Doing this will not modify any behavior and is safe. If you specifically wanted the numpy scalar type, use `np.float64` here.\n",
            "Deprecated in NumPy 1.20; for more details and guidance: https://numpy.org/devdocs/release/1.20.0-notes.html#deprecations\n",
            "  X = tf.keras.preprocessing.sequence.pad_sequences(X, dtype=np.float, maxlen=25, padding='post')\n"
          ]
        }
      ],
      "source": [
        "X = tf.keras.preprocessing.sequence.pad_sequences(X, dtype=np.float, maxlen=25, padding='post')\n",
        "X = X.reshape(-1, 5, 5)\n",
        "X = np.expand_dims(X, axis=3)"
      ]
    },
    {
      "cell_type": "code",
      "execution_count": 17,
      "metadata": {
        "execution": {
          "iopub.execute_input": "2020-11-09T15:52:47.888321Z",
          "iopub.status.busy": "2020-11-09T15:52:47.886630Z",
          "iopub.status.idle": "2020-11-09T15:52:47.899506Z",
          "shell.execute_reply": "2020-11-09T15:52:47.898825Z"
        },
        "papermill": {
          "duration": 0.076456,
          "end_time": "2020-11-09T15:52:47.899706",
          "exception": false,
          "start_time": "2020-11-09T15:52:47.823250",
          "status": "completed"
        },
        "tags": [],
        "colab": {
          "base_uri": "https://localhost:8080/"
        },
        "id": "y2wQ0Q0x3QjO",
        "outputId": "53ce473f-b462-4ee8-d43e-82bddb8c7fec"
      },
      "outputs": [
        {
          "output_type": "execute_result",
          "data": {
            "text/plain": [
              "(3168, 5, 5, 1)"
            ]
          },
          "metadata": {},
          "execution_count": 17
        }
      ],
      "source": [
        "X.shape"
      ]
    },
    {
      "cell_type": "code",
      "execution_count": 18,
      "metadata": {
        "execution": {
          "iopub.execute_input": "2020-11-09T15:52:48.049889Z",
          "iopub.status.busy": "2020-11-09T15:52:48.049038Z",
          "iopub.status.idle": "2020-11-09T15:52:48.537615Z",
          "shell.execute_reply": "2020-11-09T15:52:48.536808Z"
        },
        "papermill": {
          "duration": 0.570253,
          "end_time": "2020-11-09T15:52:48.537775",
          "exception": false,
          "start_time": "2020-11-09T15:52:47.967522",
          "status": "completed"
        },
        "tags": [],
        "colab": {
          "base_uri": "https://localhost:8080/",
          "height": 683
        },
        "id": "YMQA5ZK63QjP",
        "outputId": "a1db21ba-a364-4ea7-ba16-bcd833f2e5bf"
      },
      "outputs": [
        {
          "output_type": "display_data",
          "data": {
            "text/plain": [
              "<Figure size 864x864 with 9 Axes>"
            ],
            "image/png": "[encoded data removed]"
          },
          "metadata": {
            "needs_background": "light"
          }
        }
      ],
      "source": [
        "plt.figure(figsize=(12, 12))\n",
        "\n",
        "for i in range(9):\n",
        "    plt.subplot(3, 3, i + 1)\n",
        "    plt.imshow(np.squeeze(X[i]))\n",
        "    plt.axis('off')\n",
        "    \n",
        "plt.show()"
      ]
    },
    {
      "cell_type": "code",
      "execution_count": 19,
      "metadata": {
        "execution": {
          "iopub.execute_input": "2020-11-09T15:52:48.660458Z",
          "iopub.status.busy": "2020-11-09T15:52:48.659454Z",
          "iopub.status.idle": "2020-11-09T15:52:48.665615Z",
          "shell.execute_reply": "2020-11-09T15:52:48.664896Z"
        },
        "papermill": {
          "duration": 0.069077,
          "end_time": "2020-11-09T15:52:48.665803",
          "exception": false,
          "start_time": "2020-11-09T15:52:48.596726",
          "status": "completed"
        },
        "tags": [],
        "id": "vZcp6uRg3QjQ"
      },
      "outputs": [],
      "source": [
        "X_train, X_test, y_train, y_test = train_test_split(X, y, train_size=0.7, random_state=42)"
      ]
    },
    {
      "cell_type": "code",
      "execution_count": 20,
      "metadata": {
        "execution": {
          "iopub.execute_input": "2020-11-09T15:52:48.793785Z",
          "iopub.status.busy": "2020-11-09T15:52:48.788943Z",
          "iopub.status.idle": "2020-11-09T15:52:48.844980Z",
          "shell.execute_reply": "2020-11-09T15:52:48.845570Z"
        },
        "papermill": {
          "duration": 0.123476,
          "end_time": "2020-11-09T15:52:48.845778",
          "exception": false,
          "start_time": "2020-11-09T15:52:48.722302",
          "status": "completed"
        },
        "tags": [],
        "id": "ogNvhovy3QjQ"
      },
      "outputs": [],
      "source": [
        "inputs = tf.keras.Input(shape=(X.shape[1], X.shape[2], X.shape[3]))\n",
        "\n",
        "x = tf.keras.layers.Conv2D(16, 2, activation='relu')(inputs)\n",
        "x = tf.keras.layers.MaxPooling2D()(x)\n",
        "\n",
        "x = tf.keras.layers.Conv2D(32, 1, activation='relu')(x)\n",
        "x = tf.keras.layers.MaxPooling2D()(x)\n",
        "\n",
        "x = tf.keras.layers.Flatten()(x)\n",
        "\n",
        "x = tf.keras.layers.Dense(64, activation='relu')(x)\n",
        "\n",
        "outputs = tf.keras.layers.Dense(1, activation='sigmoid')(x)\n",
        "\n",
        "model = tf.keras.Model(inputs, outputs)"
      ]
    },
    {
      "cell_type": "code",
      "execution_count": 21,
      "metadata": {
        "execution": {
          "iopub.execute_input": "2020-11-09T15:52:48.966863Z",
          "iopub.status.busy": "2020-11-09T15:52:48.964672Z",
          "iopub.status.idle": "2020-11-09T15:52:48.975219Z",
          "shell.execute_reply": "2020-11-09T15:52:48.974165Z"
        },
        "papermill": {
          "duration": 0.075218,
          "end_time": "2020-11-09T15:52:48.975440",
          "exception": false,
          "start_time": "2020-11-09T15:52:48.900222",
          "status": "completed"
        },
        "tags": [],
        "colab": {
          "base_uri": "https://localhost:8080/"
        },
        "id": "nS-JQevj3QjR",
        "outputId": "ed026a06-ae70-4bb6-c869-dd070bfa333a"
      },
      "outputs": [
        {
          "output_type": "stream",
          "name": "stdout",
          "text": [
            "Model: \"model_1\"\n",
            "_________________________________________________________________\n",
            " Layer (type)                Output Shape              Param #   \n",
            "=================================================================\n",
            " input_2 (InputLayer)        [(None, 5, 5, 1)]         0         \n",
            "                                                                 \n",
            " conv2d (Conv2D)             (None, 4, 4, 16)          80        \n",
            "                                                                 \n",
            " max_pooling2d (MaxPooling2D  (None, 2, 2, 16)         0         \n",
            " )                                                               \n",
            "                                                                 \n",
            " conv2d_1 (Conv2D)           (None, 2, 2, 32)          544       \n",
            "                                                                 \n",
            " max_pooling2d_1 (MaxPooling  (None, 1, 1, 32)         0         \n",
            " 2D)                                                             \n",
            "                                                                 \n",
            " flatten (Flatten)           (None, 32)                0         \n",
            "                                                                 \n",
            " dense_3 (Dense)             (None, 64)                2112      \n",
            "                                                                 \n",
            " dense_4 (Dense)             (None, 1)                 65        \n",
            "                                                                 \n",
            "=================================================================\n",
            "Total params: 2,801\n",
            "Trainable params: 2,801\n",
            "Non-trainable params: 0\n",
            "_________________________________________________________________\n"
          ]
        }
      ],
      "source": [
        "model.summary()"
      ]
    },
    {
      "cell_type": "code",
      "execution_count": 22,
      "metadata": {
        "execution": {
          "iopub.execute_input": "2020-11-09T15:52:49.106686Z",
          "iopub.status.busy": "2020-11-09T15:52:49.105896Z",
          "iopub.status.idle": "2020-11-09T15:52:55.594902Z",
          "shell.execute_reply": "2020-11-09T15:52:55.594049Z"
        },
        "papermill": {
          "duration": 6.560849,
          "end_time": "2020-11-09T15:52:55.595044",
          "exception": false,
          "start_time": "2020-11-09T15:52:49.034195",
          "status": "completed"
        },
        "tags": [],
        "colab": {
          "base_uri": "https://localhost:8080/"
        },
        "id": "O7NmDFzV3QjS",
        "outputId": "52887428-11e8-4a59-9c7e-b2844cd941f8"
      },
      "outputs": [
        {
          "output_type": "stream",
          "name": "stdout",
          "text": [
            "Epoch 1/100\n",
            "56/56 [==============================] - 2s 9ms/step - loss: 0.6406 - accuracy: 0.6323 - auc: 0.7716 - val_loss: 0.5752 - val_accuracy: 0.7365 - val_auc: 0.8421\n",
            "Epoch 2/100\n",
            "56/56 [==============================] - 0s 4ms/step - loss: 0.4783 - accuracy: 0.8274 - auc: 0.9088 - val_loss: 0.3972 - val_accuracy: 0.8739 - val_auc: 0.9405\n",
            "Epoch 3/100\n",
            "56/56 [==============================] - 0s 4ms/step - loss: 0.3198 - accuracy: 0.9052 - auc: 0.9585 - val_loss: 0.2804 - val_accuracy: 0.9099 - val_auc: 0.9624\n",
            "Epoch 4/100\n",
            "56/56 [==============================] - 0s 4ms/step - loss: 0.2310 - accuracy: 0.9171 - auc: 0.9754 - val_loss: 0.2188 - val_accuracy: 0.9302 - val_auc: 0.9756\n",
            "Epoch 5/100\n",
            "56/56 [==============================] - 0s 3ms/step - loss: 0.1892 - accuracy: 0.9250 - auc: 0.9819 - val_loss: 0.1903 - val_accuracy: 0.9324 - val_auc: 0.9817\n",
            "Epoch 6/100\n",
            "56/56 [==============================] - 0s 4ms/step - loss: 0.1686 - accuracy: 0.9312 - auc: 0.9848 - val_loss: 0.1672 - val_accuracy: 0.9369 - val_auc: 0.9849\n",
            "Epoch 7/100\n",
            "56/56 [==============================] - 0s 3ms/step - loss: 0.1554 - accuracy: 0.9391 - auc: 0.9867 - val_loss: 0.1610 - val_accuracy: 0.9324 - val_auc: 0.9873\n",
            "Epoch 8/100\n",
            "56/56 [==============================] - 0s 3ms/step - loss: 0.1382 - accuracy: 0.9459 - auc: 0.9896 - val_loss: 0.1476 - val_accuracy: 0.9414 - val_auc: 0.9896\n",
            "Epoch 9/100\n",
            "56/56 [==============================] - 0s 3ms/step - loss: 0.1329 - accuracy: 0.9549 - auc: 0.9903 - val_loss: 0.1337 - val_accuracy: 0.9482 - val_auc: 0.9906\n",
            "Epoch 10/100\n",
            "56/56 [==============================] - 0s 3ms/step - loss: 0.1224 - accuracy: 0.9526 - auc: 0.9919 - val_loss: 0.1346 - val_accuracy: 0.9505 - val_auc: 0.9916\n",
            "Epoch 11/100\n",
            "56/56 [==============================] - 0s 3ms/step - loss: 0.1155 - accuracy: 0.9588 - auc: 0.9925 - val_loss: 0.1214 - val_accuracy: 0.9482 - val_auc: 0.9923\n",
            "Epoch 12/100\n",
            "56/56 [==============================] - 0s 3ms/step - loss: 0.1143 - accuracy: 0.9588 - auc: 0.9926 - val_loss: 0.1308 - val_accuracy: 0.9482 - val_auc: 0.9930\n",
            "Epoch 13/100\n",
            "56/56 [==============================] - 0s 3ms/step - loss: 0.1074 - accuracy: 0.9611 - auc: 0.9932 - val_loss: 0.1191 - val_accuracy: 0.9550 - val_auc: 0.9938\n",
            "Epoch 14/100\n",
            "56/56 [==============================] - 0s 3ms/step - loss: 0.1028 - accuracy: 0.9633 - auc: 0.9940 - val_loss: 0.1121 - val_accuracy: 0.9550 - val_auc: 0.9931\n",
            "Epoch 15/100\n",
            "56/56 [==============================] - 0s 4ms/step - loss: 0.1010 - accuracy: 0.9622 - auc: 0.9941 - val_loss: 0.1178 - val_accuracy: 0.9437 - val_auc: 0.9929\n",
            "Epoch 16/100\n",
            "56/56 [==============================] - 0s 4ms/step - loss: 0.1014 - accuracy: 0.9633 - auc: 0.9942 - val_loss: 0.1007 - val_accuracy: 0.9595 - val_auc: 0.9945\n",
            "Epoch 17/100\n",
            "56/56 [==============================] - 0s 3ms/step - loss: 0.0916 - accuracy: 0.9650 - auc: 0.9951 - val_loss: 0.1219 - val_accuracy: 0.9505 - val_auc: 0.9947\n",
            "Epoch 18/100\n",
            "56/56 [==============================] - 0s 4ms/step - loss: 0.0951 - accuracy: 0.9667 - auc: 0.9946 - val_loss: 0.1183 - val_accuracy: 0.9550 - val_auc: 0.9934\n",
            "Epoch 19/100\n",
            "56/56 [==============================] - 0s 4ms/step - loss: 0.0916 - accuracy: 0.9673 - auc: 0.9949 - val_loss: 0.1151 - val_accuracy: 0.9572 - val_auc: 0.9951\n"
          ]
        }
      ],
      "source": [
        "model.compile(\n",
        "    optimizer='adam',\n",
        "    loss='binary_crossentropy',\n",
        "    metrics=[\n",
        "        'accuracy',\n",
        "        tf.keras.metrics.AUC(name='auc')\n",
        "    ]\n",
        ")\n",
        "\n",
        "history = model.fit(\n",
        "    X_train,\n",
        "    y_train,\n",
        "    validation_split=0.2,\n",
        "    batch_size=32,\n",
        "    epochs=100,\n",
        "    callbacks=[\n",
        "        tf.keras.callbacks.EarlyStopping(\n",
        "            monitor='val_loss',\n",
        "            patience=3,\n",
        "            restore_best_weights=True\n",
        "        )\n",
        "    ]\n",
        ")"
      ]
    },
    {
      "cell_type": "code",
      "execution_count": 23,
      "metadata": {
        "execution": {
          "iopub.execute_input": "2020-11-09T15:52:55.818725Z",
          "iopub.status.busy": "2020-11-09T15:52:55.817890Z",
          "iopub.status.idle": "2020-11-09T15:52:55.920664Z",
          "shell.execute_reply": "2020-11-09T15:52:55.919717Z"
        },
        "papermill": {
          "duration": 0.216665,
          "end_time": "2020-11-09T15:52:55.920842",
          "exception": false,
          "start_time": "2020-11-09T15:52:55.704177",
          "status": "completed"
        },
        "tags": [],
        "colab": {
          "base_uri": "https://localhost:8080/"
        },
        "id": "Ore5IyKP3QjT",
        "outputId": "6b7b7c4f-90f3-49f2-ffd2-1f6216b409b5"
      },
      "outputs": [
        {
          "output_type": "stream",
          "name": "stdout",
          "text": [
            "30/30 [==============================] - 0s 2ms/step - loss: 0.1098 - accuracy: 0.9527 - auc: 0.9930\n"
          ]
        },
        {
          "output_type": "execute_result",
          "data": {
            "text/plain": [
              "[0.10977411270141602, 0.9526813626289368, 0.9929793477058411]"
            ]
          },
          "metadata": {},
          "execution_count": 23
        }
      ],
      "source": [
        "model.evaluate(X_test, y_test)"
      ]
    },
    {
      "cell_type": "code",
      "source": [
        "inputs = tf.keras.Input(shape=(X.shape[1], X.shape[2], X.shape[3]))\n",
        "\n",
        "x = tf.keras.layers.Conv2D(32, 2, activation='relu')(inputs)\n",
        "x = tf.keras.layers.MaxPooling2D()(x)\n",
        "\n",
        "x = tf.keras.layers.Conv2D(64, 1, activation='relu')(x)\n",
        "x = tf.keras.layers.MaxPooling2D()(x)\n",
        "\n",
        "x = tf.keras.layers.Flatten()(x)\n",
        "\n",
        "x = tf.keras.layers.Dense(64, activation='relu')(x)\n",
        "\n",
        "outputs = tf.keras.layers.Dense(1, activation='sigmoid')(x)\n",
        "\n",
        "model = tf.keras.Model(inputs, outputs)"
      ],
      "metadata": {
        "id": "-xZf2PIa6Yt4"
      },
      "execution_count": 24,
      "outputs": []
    },
    {
      "cell_type": "code",
      "source": [
        "model.summary()"
      ],
      "metadata": {
        "colab": {
          "base_uri": "https://localhost:8080/"
        },
        "id": "747Hs8dS6kT_",
        "outputId": "260b49f6-c8b7-4247-f80d-dd8a8d337147"
      },
      "execution_count": 25,
      "outputs": [
        {
          "output_type": "stream",
          "name": "stdout",
          "text": [
            "Model: \"model_2\"\n",
            "_________________________________________________________________\n",
            " Layer (type)                Output Shape              Param #   \n",
            "=================================================================\n",
            " input_3 (InputLayer)        [(None, 5, 5, 1)]         0         \n",
            "                                                                 \n",
            " conv2d_2 (Conv2D)           (None, 4, 4, 32)          160       \n",
            "                                                                 \n",
            " max_pooling2d_2 (MaxPooling  (None, 2, 2, 32)         0         \n",
            " 2D)                                                             \n",
            "                                                                 \n",
            " conv2d_3 (Conv2D)           (None, 2, 2, 64)          2112      \n",
            "                                                                 \n",
            " max_pooling2d_3 (MaxPooling  (None, 1, 1, 64)         0         \n",
            " 2D)                                                             \n",
            "                                                                 \n",
            " flatten_1 (Flatten)         (None, 64)                0         \n",
            "                                                                 \n",
            " dense_5 (Dense)             (None, 64)                4160      \n",
            "                                                                 \n",
            " dense_6 (Dense)             (None, 1)                 65        \n",
            "                                                                 \n",
            "=================================================================\n",
            "Total params: 6,497\n",
            "Trainable params: 6,497\n",
            "Non-trainable params: 0\n",
            "_________________________________________________________________\n"
          ]
        }
      ]
    },
    {
      "cell_type": "code",
      "source": [
        "model.compile(\n",
        "    optimizer='adam',\n",
        "    loss='binary_crossentropy',\n",
        "    metrics=[\n",
        "        'accuracy',\n",
        "        tf.keras.metrics.AUC(name='auc')\n",
        "    ]\n",
        ")\n",
        "\n",
        "history = model.fit(\n",
        "    X_train,\n",
        "    y_train,\n",
        "    validation_split=0.2,\n",
        "    batch_size=32,\n",
        "    epochs=100,\n",
        "    callbacks=[\n",
        "        tf.keras.callbacks.EarlyStopping(\n",
        "            monitor='val_loss',\n",
        "            patience=3,\n",
        "            restore_best_weights=True\n",
        "        )\n",
        "    ]\n",
        ")"
      ],
      "metadata": {
        "colab": {
          "base_uri": "https://localhost:8080/"
        },
        "id": "vjkvT78u6xgE",
        "outputId": "7103cf1d-0d0d-4aa1-ef94-f6b7e3e21abc"
      },
      "execution_count": 26,
      "outputs": [
        {
          "output_type": "stream",
          "name": "stdout",
          "text": [
            "Epoch 1/100\n",
            "56/56 [==============================] - 2s 9ms/step - loss: 0.6201 - accuracy: 0.7078 - auc: 0.7866 - val_loss: 0.5368 - val_accuracy: 0.7500 - val_auc: 0.8790\n",
            "Epoch 2/100\n",
            "56/56 [==============================] - 0s 4ms/step - loss: 0.4348 - accuracy: 0.8483 - auc: 0.9308 - val_loss: 0.3309 - val_accuracy: 0.8829 - val_auc: 0.9776\n",
            "Epoch 3/100\n",
            "56/56 [==============================] - 0s 4ms/step - loss: 0.2568 - accuracy: 0.9165 - auc: 0.9770 - val_loss: 0.2039 - val_accuracy: 0.9392 - val_auc: 0.9855\n",
            "Epoch 4/100\n",
            "56/56 [==============================] - 0s 3ms/step - loss: 0.1901 - accuracy: 0.9278 - auc: 0.9822 - val_loss: 0.1562 - val_accuracy: 0.9414 - val_auc: 0.9892\n",
            "Epoch 5/100\n",
            "56/56 [==============================] - 0s 4ms/step - loss: 0.1563 - accuracy: 0.9419 - auc: 0.9870 - val_loss: 0.1400 - val_accuracy: 0.9550 - val_auc: 0.9919\n",
            "Epoch 6/100\n",
            "56/56 [==============================] - 0s 5ms/step - loss: 0.1373 - accuracy: 0.9492 - auc: 0.9898 - val_loss: 0.1325 - val_accuracy: 0.9550 - val_auc: 0.9935\n",
            "Epoch 7/100\n",
            "56/56 [==============================] - 0s 4ms/step - loss: 0.1252 - accuracy: 0.9526 - auc: 0.9909 - val_loss: 0.1131 - val_accuracy: 0.9572 - val_auc: 0.9935\n",
            "Epoch 8/100\n",
            "56/56 [==============================] - 0s 5ms/step - loss: 0.1199 - accuracy: 0.9577 - auc: 0.9918 - val_loss: 0.1079 - val_accuracy: 0.9640 - val_auc: 0.9939\n",
            "Epoch 9/100\n",
            "56/56 [==============================] - 1s 10ms/step - loss: 0.1073 - accuracy: 0.9622 - auc: 0.9929 - val_loss: 0.1059 - val_accuracy: 0.9617 - val_auc: 0.9956\n",
            "Epoch 10/100\n",
            "56/56 [==============================] - 0s 4ms/step - loss: 0.1061 - accuracy: 0.9594 - auc: 0.9929 - val_loss: 0.0982 - val_accuracy: 0.9617 - val_auc: 0.9943\n",
            "Epoch 11/100\n",
            "56/56 [==============================] - 0s 4ms/step - loss: 0.0914 - accuracy: 0.9673 - auc: 0.9948 - val_loss: 0.0900 - val_accuracy: 0.9662 - val_auc: 0.9961\n",
            "Epoch 12/100\n",
            "56/56 [==============================] - 1s 12ms/step - loss: 0.0867 - accuracy: 0.9735 - auc: 0.9957 - val_loss: 0.0864 - val_accuracy: 0.9752 - val_auc: 0.9961\n",
            "Epoch 13/100\n",
            "56/56 [==============================] - 0s 4ms/step - loss: 0.0789 - accuracy: 0.9724 - auc: 0.9960 - val_loss: 0.0783 - val_accuracy: 0.9752 - val_auc: 0.9969\n",
            "Epoch 14/100\n",
            "56/56 [==============================] - 0s 4ms/step - loss: 0.0777 - accuracy: 0.9741 - auc: 0.9964 - val_loss: 0.0792 - val_accuracy: 0.9752 - val_auc: 0.9962\n",
            "Epoch 15/100\n",
            "56/56 [==============================] - 1s 11ms/step - loss: 0.0778 - accuracy: 0.9707 - auc: 0.9965 - val_loss: 0.0731 - val_accuracy: 0.9775 - val_auc: 0.9968\n",
            "Epoch 16/100\n",
            "56/56 [==============================] - 0s 5ms/step - loss: 0.0706 - accuracy: 0.9763 - auc: 0.9968 - val_loss: 0.0776 - val_accuracy: 0.9775 - val_auc: 0.9950\n",
            "Epoch 17/100\n",
            "56/56 [==============================] - 0s 6ms/step - loss: 0.0647 - accuracy: 0.9757 - auc: 0.9971 - val_loss: 0.0734 - val_accuracy: 0.9707 - val_auc: 0.9973\n",
            "Epoch 18/100\n",
            "56/56 [==============================] - 0s 5ms/step - loss: 0.0611 - accuracy: 0.9791 - auc: 0.9978 - val_loss: 0.0690 - val_accuracy: 0.9752 - val_auc: 0.9971\n",
            "Epoch 19/100\n",
            "56/56 [==============================] - 0s 5ms/step - loss: 0.0626 - accuracy: 0.9780 - auc: 0.9977 - val_loss: 0.0634 - val_accuracy: 0.9775 - val_auc: 0.9980\n",
            "Epoch 20/100\n",
            "56/56 [==============================] - 0s 5ms/step - loss: 0.0523 - accuracy: 0.9820 - auc: 0.9984 - val_loss: 0.1018 - val_accuracy: 0.9550 - val_auc: 0.9982\n",
            "Epoch 21/100\n",
            "56/56 [==============================] - 0s 5ms/step - loss: 0.0572 - accuracy: 0.9780 - auc: 0.9981 - val_loss: 0.0595 - val_accuracy: 0.9820 - val_auc: 0.9976\n",
            "Epoch 22/100\n",
            "56/56 [==============================] - 0s 5ms/step - loss: 0.0537 - accuracy: 0.9803 - auc: 0.9983 - val_loss: 0.0629 - val_accuracy: 0.9775 - val_auc: 0.9975\n",
            "Epoch 23/100\n",
            "56/56 [==============================] - 0s 5ms/step - loss: 0.0484 - accuracy: 0.9836 - auc: 0.9986 - val_loss: 0.0703 - val_accuracy: 0.9752 - val_auc: 0.9973\n",
            "Epoch 24/100\n",
            "56/56 [==============================] - 0s 6ms/step - loss: 0.0444 - accuracy: 0.9876 - auc: 0.9987 - val_loss: 0.0617 - val_accuracy: 0.9775 - val_auc: 0.9973\n"
          ]
        }
      ]
    },
    {
      "cell_type": "code",
      "source": [
        "model.evaluate(X_test, y_test)"
      ],
      "metadata": {
        "colab": {
          "base_uri": "https://localhost:8080/"
        },
        "id": "NIhYBIt062Gf",
        "outputId": "5b3351ad-c1d8-4c00-ad8e-4b8e7cd7bc3c"
      },
      "execution_count": 27,
      "outputs": [
        {
          "output_type": "stream",
          "name": "stdout",
          "text": [
            "30/30 [==============================] - 0s 6ms/step - loss: 0.0745 - accuracy: 0.9685 - auc: 0.9968\n"
          ]
        },
        {
          "output_type": "execute_result",
          "data": {
            "text/plain": [
              "[0.07451311498880386, 0.9684542417526245, 0.9968432188034058]"
            ]
          },
          "metadata": {},
          "execution_count": 27
        }
      ]
    }
  ],
  "metadata": {
    "kernelspec": {
      "display_name": "Python 3",
      "language": "python",
      "name": "python3"
    },
    "language_info": {
      "codemirror_mode": {
        "name": "ipython",
        "version": 3
      },
      "file_extension": ".py",
      "mimetype": "text/x-python",
      "name": "python",
      "nbconvert_exporter": "python",
      "pygments_lexer": "ipython3",
      "version": "3.7.6"
    },
    "papermill": {
      "duration": 26.853234,
      "end_time": "2020-11-09T15:52:56.370869",
      "environment_variables": {},
      "exception": null,
      "input_path": "__notebook__.ipynb",
      "output_path": "__notebook__.ipynb",
      "parameters": {},
      "start_time": "2020-11-09T15:52:29.517635",
      "version": "2.1.0"
    },
    "colab": {
      "provenance": []
    }
  },
  "nbformat": 4,
  "nbformat_minor": 0
}